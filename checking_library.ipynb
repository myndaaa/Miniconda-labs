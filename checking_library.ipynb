{
 "cells": [
  {
   "cell_type": "code",
   "execution_count": 1,
   "id": "95592161",
   "metadata": {},
   "outputs": [
    {
     "name": "stdout",
     "output_type": "stream",
     "text": [
      "GPUs Available: 1\n",
      "PhysicalDevice(name='/physical_device:GPU:0', device_type='GPU')\n",
      "\n",
      "TensorFlow GPU operation successful:\n",
      "tf.Tensor([[8.]], shape=(1, 1), dtype=float32)\n"
     ]
    }
   ],
   "source": [
    "import tensorflow as tf\n",
    "\n",
    "# List all physical devices\n",
    "physical_devices = tf.config.list_physical_devices('GPU')\n",
    "print(\"GPUs Available:\", len(physical_devices))\n",
    "for gpu in physical_devices:\n",
    "    print(gpu)\n",
    "\n",
    "# Test TensorFlow GPU functionality\n",
    "try:\n",
    "    # Create a simple TensorFlow operation on the GPU\n",
    "    with tf.device('/GPU:0'):\n",
    "        a = tf.constant([[1.0, 2.0, 3.0]])\n",
    "        b = tf.constant([[0.0, 1.0, 2.0]])\n",
    "        c = tf.matmul(a, b, transpose_b=True)\n",
    "    print(\"\\nTensorFlow GPU operation successful:\")\n",
    "    print(c)\n",
    "except RuntimeError as e:\n",
    "    print(\"\\nTensorFlow GPU operation failed:\")\n",
    "    print(e)\n"
   ]
  },
  {
   "cell_type": "code",
   "execution_count": 4,
   "id": "02ff5580",
   "metadata": {},
   "outputs": [
    {
     "name": "stdout",
     "output_type": "stream",
     "text": [
      "NumPy version: 1.23.5\n",
      "Pandas version: 2.2.3\n",
      "Matplotlib version: 3.5.1\n",
      "Scikit-learn version: 1.2.2\n",
      "Pillow version: 10.4.0\n",
      "Imbalanced-learn version: 0.10.1\n",
      "Seaborn version: 0.12.2\n"
     ]
    }
   ],
   "source": [
    "# Verify NumPy\n",
    "import numpy as np\n",
    "print(\"NumPy version:\", np.__version__)\n",
    "\n",
    "# Verify Pandas\n",
    "import pandas as pd\n",
    "print(\"Pandas version:\", pd.__version__)\n",
    "\n",
    "import matplotlib\n",
    "import matplotlib.pyplot as plt\n",
    "\n",
    "print(\"Matplotlib version:\", matplotlib.__version__)\n",
    "\n",
    "\n",
    "# Verify Scikit-learn\n",
    "import sklearn\n",
    "print(\"Scikit-learn version:\", sklearn.__version__)\n",
    "\n",
    "# Verify Pillow\n",
    "from PIL import Image\n",
    "print(\"Pillow version:\", Image.__version__)\n",
    "\n",
    "# Verify Imbalanced-learn\n",
    "import imblearn\n",
    "print(\"Imbalanced-learn version:\", imblearn.__version__)\n",
    "\n",
    "# Verify Seaborn\n",
    "import seaborn as sns\n",
    "print(\"Seaborn version:\", sns.__version__)\n",
    "\n",
    "\n"
   ]
  },
  {
   "cell_type": "code",
   "execution_count": null,
   "id": "145ea05a-6d49-4cf5-8a8e-82d63fad413f",
   "metadata": {},
   "outputs": [],
   "source": []
  }
 ],
 "metadata": {
  "kernelspec": {
   "display_name": "Python 3 (ipykernel)",
   "language": "python",
   "name": "python3"
  },
  "language_info": {
   "codemirror_mode": {
    "name": "ipython",
    "version": 3
   },
   "file_extension": ".py",
   "mimetype": "text/x-python",
   "name": "python",
   "nbconvert_exporter": "python",
   "pygments_lexer": "ipython3",
   "version": "3.9.20"
  }
 },
 "nbformat": 4,
 "nbformat_minor": 5
}
